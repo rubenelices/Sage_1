{
 "cells": [
  {
   "cell_type": "code",
   "execution_count": 1,
   "metadata": {
    "collapsed": false
   },
   "outputs": [
    {
     "data": {
      "text/plain": [
       "(7/8, 0.875)"
      ]
     },
     "execution_count": 1,
     "metadata": {
     },
     "output_type": "execute_result"
    }
   ],
   "source": [
    "#Divide 28 por 2 elevado a la quinta potencia como número racional y obtén después su aproximación decimal\n",
    "racional = 28 / (2^5)\n",
    "decimal = float(racional)\n",
    "\n",
    "racional, decimal"
   ]
  },
  {
   "cell_type": "code",
   "execution_count": 2,
   "metadata": {
    "collapsed": false
   },
   "outputs": [
    {
     "data": {
      "text/plain": [
       "1.414"
      ]
     },
     "execution_count": 2,
     "metadata": {
     },
     "output_type": "execute_result"
    }
   ],
   "source": [
    "#Obtén una aproximación decimal de raíz cuadrada de 2\n",
    "sqrt(2).n(digits=4)"
   ]
  },
  {
   "cell_type": "code",
   "execution_count": 3,
   "metadata": {
    "collapsed": false
   },
   "outputs": [
    {
     "data": {
      "text/plain": [
       "3*I"
      ]
     },
     "execution_count": 3,
     "metadata": {
     },
     "output_type": "execute_result"
    }
   ],
   "source": [
    "#Calcula la raíz cuadrada de -9\n",
    "sqrt(-9)\n",
    "#Siendo I = sqrt(-1)"
   ]
  },
  {
   "cell_type": "code",
   "execution_count": 4,
   "metadata": {
    "collapsed": false
   },
   "outputs": [
    {
     "data": {
      "text/plain": [
       "51"
      ]
     },
     "execution_count": 4,
     "metadata": {
     },
     "output_type": "execute_result"
    }
   ],
   "source": [
    "#Calcula el logaritmo en base 3 de 2153693963075557766310747\n",
    "numero = 2153693963075557766310747\n",
    "\n",
    "# Calcula el logaritmo en base 3\n",
    "logaritmo_base_3 = log(numero, 3)\n",
    "\n",
    "logaritmo_base_3"
   ]
  },
  {
   "cell_type": "code",
   "execution_count": 5,
   "metadata": {
    "collapsed": false
   },
   "outputs": [
    {
     "data": {
      "text/plain": [
       "2.71828182845904523536028747135266249775724709369996"
      ]
     },
     "execution_count": 5,
     "metadata": {
     },
     "output_type": "execute_result"
    }
   ],
   "source": [
    "#Calcula las 50 primeras cifras decimales del número e\n",
    "e.n(digits = 51)"
   ]
  },
  {
   "cell_type": "code",
   "execution_count": 6,
   "metadata": {
    "collapsed": false
   },
   "outputs": [
    {
     "data": {
      "text/plain": [
       "3.1415926535897932384626433832795028841971693993751058209749445923078164062862090"
      ]
     },
     "execution_count": 6,
     "metadata": {
     },
     "output_type": "execute_result"
    }
   ],
   "source": [
    "#Calcula las 80 primeras cifras decimales del número π\n",
    "π.n(digits = 80)"
   ]
  },
  {
   "cell_type": "code",
   "execution_count": 7,
   "metadata": {
    "collapsed": false
   },
   "outputs": [
    {
     "data": {
      "text/plain": [
       "(9, 74)"
      ]
     },
     "execution_count": 7,
     "metadata": {
     },
     "output_type": "execute_result"
    }
   ],
   "source": [
    "#Obtén el cociente y el resto de dividir 956 entre 98\n",
    "# Define los números\n",
    "dividendo = 956\n",
    "divisor = 98\n",
    "\n",
    "# Calcula el cociente y el resto\n",
    "cociente = dividendo // divisor\n",
    "resto = dividendo % divisor\n",
    "\n",
    "cociente, resto"
   ]
  },
  {
   "cell_type": "code",
   "execution_count": 8,
   "metadata": {
    "collapsed": false
   },
   "outputs": [
    {
     "data": {
      "text/plain": [
       "(9, 74, True)"
      ]
     },
     "execution_count": 8,
     "metadata": {
     },
     "output_type": "execute_result"
    }
   ],
   "source": [
    "#Comprueba que el cociente y el resto obtenidos en el apartado anterior son correctos con la prueba de Euclides\n",
    "# Valores dados\n",
    "a = 956\n",
    "b = 98\n",
    "q = 956 // 98  # cociente\n",
    "r = 956 % 98   # resto\n",
    "\n",
    "# Comprobación de la prueba de Euclides\n",
    "comprobacion = a == b * q + r\n",
    "\n",
    "q, r, comprobacion\n"
   ]
  },
  {
   "cell_type": "code",
   "execution_count": 9,
   "metadata": {
    "collapsed": false
   },
   "outputs": [
    {
     "data": {
      "text/plain": [
       "False"
      ]
     },
     "execution_count": 9,
     "metadata": {
     },
     "output_type": "execute_result"
    }
   ],
   "source": [
    "#Determina si 3 divide 234878\n",
    "# Número a verificar\n",
    "numero = 234878\n",
    "\n",
    "# Verifica si 3 divide a numero\n",
    "es_divisible = numero % 3 == 0\n",
    "\n",
    "es_divisible\n"
   ]
  },
  {
   "cell_type": "code",
   "execution_count": 10,
   "metadata": {
    "collapsed": false
   },
   "outputs": [
    {
     "data": {
      "text/plain": [
       "{134: [1, 2, 67, 134],\n",
       " 491: [1, 491],\n",
       " 422: [1, 2, 211, 422],\n",
       " 1002: [1, 2, 3, 6, 167, 334, 501, 1002]}"
      ]
     },
     "execution_count": 10,
     "metadata": {
     },
     "output_type": "execute_result"
    }
   ],
   "source": [
    "#Calcula la lista de divisores de cada uno de los siguientes números enteros: 134, 491, 422 y 1002\n",
    "# Números dados\n",
    "numeros = [134, 491, 422, 1002]\n",
    "\n",
    "# Calcula los divisores para cada número\n",
    "divisores_por_numero = {numero: divisors(numero) for numero in numeros}\n",
    "\n",
    "divisores_por_numero\n"
   ]
  },
  {
   "cell_type": "code",
   "execution_count": 11,
   "metadata": {
    "collapsed": false
   },
   "outputs": [
    {
     "data": {
      "text/plain": [
       "[491]"
      ]
     },
     "execution_count": 11,
     "metadata": {
     },
     "output_type": "execute_result"
    }
   ],
   "source": [
    "#De los enteros del ejercicio anterior, ¿cuáles son números primos?\n",
    "# Números dados\n",
    "numeros = [134, 491, 422, 1002]\n",
    "\n",
    "# Filtra los números primos\n",
    "numeros_primos = [numero for numero in numeros if is_prime(numero)]\n",
    "\n",
    "numeros_primos\n"
   ]
  },
  {
   "cell_type": "code",
   "execution_count": 12,
   "metadata": {
    "collapsed": false
   },
   "outputs": [
    {
     "data": {
      "text/plain": [
       "[(1, 10), (2, 20), (3, 306)]"
      ]
     },
     "execution_count": 12,
     "metadata": {
     },
     "output_type": "execute_result"
    }
   ],
   "source": [
    "#Calcula el máximo común divisor (mcd) y el mínimo común múltiple (mcm) para los pares de números enteros (2,5), (4,10) y (18, 51).\n",
    "# Pares de números\n",
    "pares_numeros = [(2, 5), (4, 10), (18, 51)]\n",
    "\n",
    "# Calcula el MCD y MCM para cada par de números\n",
    "resultados = [(gcd(a, b), lcm(a, b)) for a, b in pares_numeros]\n",
    "\n",
    "resultados\n"
   ]
  },
  {
   "cell_type": "code",
   "execution_count": 0,
   "metadata": {
    "collapsed": false
   },
   "outputs": [
   ],
   "source": [
   ]
  }
 ],
 "metadata": {
  "kernelspec": {
   "argv": [
    "sage-10.1",
    "--python",
    "-m",
    "sage.repl.ipython_kernel",
    "--matplotlib=inline",
    "-f",
    "{connection_file}"
   ],
   "display_name": "SageMath 10.1",
   "env": {
   },
   "language": "sagemath",
   "metadata": {
    "cocalc": {
     "description": "Open-source mathematical software system",
     "priority": 10,
     "url": "https://www.sagemath.org/"
    }
   },
   "name": "sage-10.1",
   "resource_dir": "/ext/jupyter/kernels/sage-10.1"
  }
 },
 "nbformat": 4,
 "nbformat_minor": 4
}